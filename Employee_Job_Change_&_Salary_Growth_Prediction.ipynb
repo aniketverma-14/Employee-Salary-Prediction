{
  "cells": [
    {
      "cell_type": "markdown",
      "metadata": {
        "id": "view-in-github",
        "colab_type": "text"
      },
      "source": [
        "<a href=\"https://colab.research.google.com/github/aniketverma-14/Employee-Salary-Prediction/blob/main/Employee_Job_Change_%26_Salary_Growth_Prediction.ipynb\" target=\"_parent\"><img src=\"https://colab.research.google.com/assets/colab-badge.svg\" alt=\"Open In Colab\"/></a>"
      ]
    },
    {
      "cell_type": "code",
      "execution_count": 1,
      "metadata": {
        "id": "h16uVJLnc-aX",
        "colab": {
          "base_uri": "https://localhost:8080/",
          "height": 74
        },
        "outputId": "5184ba5b-8ffa-4111-8298-cc2b4b0549fc"
      },
      "outputs": [
        {
          "output_type": "display_data",
          "data": {
            "text/plain": [
              "<IPython.core.display.HTML object>"
            ],
            "text/html": [
              "\n",
              "     <input type=\"file\" id=\"files-e14fb01a-fa45-4845-95ac-8ea56236cf70\" name=\"files[]\" multiple disabled\n",
              "        style=\"border:none\" />\n",
              "     <output id=\"result-e14fb01a-fa45-4845-95ac-8ea56236cf70\">\n",
              "      Upload widget is only available when the cell has been executed in the\n",
              "      current browser session. Please rerun this cell to enable.\n",
              "      </output>\n",
              "      <script>// Copyright 2017 Google LLC\n",
              "//\n",
              "// Licensed under the Apache License, Version 2.0 (the \"License\");\n",
              "// you may not use this file except in compliance with the License.\n",
              "// You may obtain a copy of the License at\n",
              "//\n",
              "//      http://www.apache.org/licenses/LICENSE-2.0\n",
              "//\n",
              "// Unless required by applicable law or agreed to in writing, software\n",
              "// distributed under the License is distributed on an \"AS IS\" BASIS,\n",
              "// WITHOUT WARRANTIES OR CONDITIONS OF ANY KIND, either express or implied.\n",
              "// See the License for the specific language governing permissions and\n",
              "// limitations under the License.\n",
              "\n",
              "/**\n",
              " * @fileoverview Helpers for google.colab Python module.\n",
              " */\n",
              "(function(scope) {\n",
              "function span(text, styleAttributes = {}) {\n",
              "  const element = document.createElement('span');\n",
              "  element.textContent = text;\n",
              "  for (const key of Object.keys(styleAttributes)) {\n",
              "    element.style[key] = styleAttributes[key];\n",
              "  }\n",
              "  return element;\n",
              "}\n",
              "\n",
              "// Max number of bytes which will be uploaded at a time.\n",
              "const MAX_PAYLOAD_SIZE = 100 * 1024;\n",
              "\n",
              "function _uploadFiles(inputId, outputId) {\n",
              "  const steps = uploadFilesStep(inputId, outputId);\n",
              "  const outputElement = document.getElementById(outputId);\n",
              "  // Cache steps on the outputElement to make it available for the next call\n",
              "  // to uploadFilesContinue from Python.\n",
              "  outputElement.steps = steps;\n",
              "\n",
              "  return _uploadFilesContinue(outputId);\n",
              "}\n",
              "\n",
              "// This is roughly an async generator (not supported in the browser yet),\n",
              "// where there are multiple asynchronous steps and the Python side is going\n",
              "// to poll for completion of each step.\n",
              "// This uses a Promise to block the python side on completion of each step,\n",
              "// then passes the result of the previous step as the input to the next step.\n",
              "function _uploadFilesContinue(outputId) {\n",
              "  const outputElement = document.getElementById(outputId);\n",
              "  const steps = outputElement.steps;\n",
              "\n",
              "  const next = steps.next(outputElement.lastPromiseValue);\n",
              "  return Promise.resolve(next.value.promise).then((value) => {\n",
              "    // Cache the last promise value to make it available to the next\n",
              "    // step of the generator.\n",
              "    outputElement.lastPromiseValue = value;\n",
              "    return next.value.response;\n",
              "  });\n",
              "}\n",
              "\n",
              "/**\n",
              " * Generator function which is called between each async step of the upload\n",
              " * process.\n",
              " * @param {string} inputId Element ID of the input file picker element.\n",
              " * @param {string} outputId Element ID of the output display.\n",
              " * @return {!Iterable<!Object>} Iterable of next steps.\n",
              " */\n",
              "function* uploadFilesStep(inputId, outputId) {\n",
              "  const inputElement = document.getElementById(inputId);\n",
              "  inputElement.disabled = false;\n",
              "\n",
              "  const outputElement = document.getElementById(outputId);\n",
              "  outputElement.innerHTML = '';\n",
              "\n",
              "  const pickedPromise = new Promise((resolve) => {\n",
              "    inputElement.addEventListener('change', (e) => {\n",
              "      resolve(e.target.files);\n",
              "    });\n",
              "  });\n",
              "\n",
              "  const cancel = document.createElement('button');\n",
              "  inputElement.parentElement.appendChild(cancel);\n",
              "  cancel.textContent = 'Cancel upload';\n",
              "  const cancelPromise = new Promise((resolve) => {\n",
              "    cancel.onclick = () => {\n",
              "      resolve(null);\n",
              "    };\n",
              "  });\n",
              "\n",
              "  // Wait for the user to pick the files.\n",
              "  const files = yield {\n",
              "    promise: Promise.race([pickedPromise, cancelPromise]),\n",
              "    response: {\n",
              "      action: 'starting',\n",
              "    }\n",
              "  };\n",
              "\n",
              "  cancel.remove();\n",
              "\n",
              "  // Disable the input element since further picks are not allowed.\n",
              "  inputElement.disabled = true;\n",
              "\n",
              "  if (!files) {\n",
              "    return {\n",
              "      response: {\n",
              "        action: 'complete',\n",
              "      }\n",
              "    };\n",
              "  }\n",
              "\n",
              "  for (const file of files) {\n",
              "    const li = document.createElement('li');\n",
              "    li.append(span(file.name, {fontWeight: 'bold'}));\n",
              "    li.append(span(\n",
              "        `(${file.type || 'n/a'}) - ${file.size} bytes, ` +\n",
              "        `last modified: ${\n",
              "            file.lastModifiedDate ? file.lastModifiedDate.toLocaleDateString() :\n",
              "                                    'n/a'} - `));\n",
              "    const percent = span('0% done');\n",
              "    li.appendChild(percent);\n",
              "\n",
              "    outputElement.appendChild(li);\n",
              "\n",
              "    const fileDataPromise = new Promise((resolve) => {\n",
              "      const reader = new FileReader();\n",
              "      reader.onload = (e) => {\n",
              "        resolve(e.target.result);\n",
              "      };\n",
              "      reader.readAsArrayBuffer(file);\n",
              "    });\n",
              "    // Wait for the data to be ready.\n",
              "    let fileData = yield {\n",
              "      promise: fileDataPromise,\n",
              "      response: {\n",
              "        action: 'continue',\n",
              "      }\n",
              "    };\n",
              "\n",
              "    // Use a chunked sending to avoid message size limits. See b/62115660.\n",
              "    let position = 0;\n",
              "    do {\n",
              "      const length = Math.min(fileData.byteLength - position, MAX_PAYLOAD_SIZE);\n",
              "      const chunk = new Uint8Array(fileData, position, length);\n",
              "      position += length;\n",
              "\n",
              "      const base64 = btoa(String.fromCharCode.apply(null, chunk));\n",
              "      yield {\n",
              "        response: {\n",
              "          action: 'append',\n",
              "          file: file.name,\n",
              "          data: base64,\n",
              "        },\n",
              "      };\n",
              "\n",
              "      let percentDone = fileData.byteLength === 0 ?\n",
              "          100 :\n",
              "          Math.round((position / fileData.byteLength) * 100);\n",
              "      percent.textContent = `${percentDone}% done`;\n",
              "\n",
              "    } while (position < fileData.byteLength);\n",
              "  }\n",
              "\n",
              "  // All done.\n",
              "  yield {\n",
              "    response: {\n",
              "      action: 'complete',\n",
              "    }\n",
              "  };\n",
              "}\n",
              "\n",
              "scope.google = scope.google || {};\n",
              "scope.google.colab = scope.google.colab || {};\n",
              "scope.google.colab._files = {\n",
              "  _uploadFiles,\n",
              "  _uploadFilesContinue,\n",
              "};\n",
              "})(self);\n",
              "</script> "
            ]
          },
          "metadata": {}
        },
        {
          "output_type": "stream",
          "name": "stdout",
          "text": [
            "Saving aug_train.csv to aug_train (6).csv\n"
          ]
        }
      ],
      "source": [
        "from google.colab import files\n",
        "uploaded = files.upload()"
      ]
    },
    {
      "cell_type": "code",
      "execution_count": 2,
      "metadata": {
        "id": "V8FJUUc-UXMm"
      },
      "outputs": [],
      "source": [
        "import pandas as pd\n",
        "import numpy as np\n",
        "import pickle, gzip, shutil\n",
        "from sklearn.model_selection import train_test_split\n",
        "from sklearn.ensemble import RandomForestClassifier, RandomForestRegressor\n",
        "from sklearn.preprocessing import LabelEncoder\n",
        "from sklearn.metrics import classification_report, mean_absolute_error"
      ]
    },
    {
      "cell_type": "code",
      "execution_count": 3,
      "metadata": {
        "id": "XYM2pLBaUlwZ"
      },
      "outputs": [],
      "source": [
        "df = pd.read_csv(\"aug_train.csv\")"
      ]
    },
    {
      "cell_type": "code",
      "execution_count": 4,
      "metadata": {
        "id": "WXsBQDtRUpgx"
      },
      "outputs": [],
      "source": [
        "# Drop rows with missing target\n",
        "df.dropna(subset=['target'], inplace=True)"
      ]
    },
    {
      "cell_type": "code",
      "execution_count": 5,
      "metadata": {
        "id": "JkMVobydUr3a"
      },
      "outputs": [],
      "source": [
        "# Add simulated salary based on experience\n",
        "def salary_simulation(row):\n",
        "    exp = row['experience']\n",
        "    if exp == '<1':\n",
        "        exp = 0.5\n",
        "    elif exp == '>20':\n",
        "        exp = 21\n",
        "    else:\n",
        "        try:\n",
        "            exp = float(exp)\n",
        "        except:\n",
        "            exp = 2\n",
        "    base = 3 + exp * np.random.uniform(0.4, 1.0)\n",
        "    return round(base * 1e5, -3)"
      ]
    },
    {
      "cell_type": "code",
      "execution_count": 6,
      "metadata": {
        "id": "Ia4NLKgJUuyH"
      },
      "outputs": [],
      "source": [
        "df['experience_numeric'] = df['experience'].replace({'<1': 0.5, '>20': 21}).astype(float)\n",
        "df['current_salary'] = df.apply(salary_simulation, axis=1)\n",
        "df['expected_salary'] = df['current_salary'] * df['experience_numeric'].apply(lambda x: 1 + np.random.uniform(0.15, 0.35))\n",
        "df['salary_growth_percent'] = ((df['expected_salary'] - df['current_salary']) / df['current_salary']) * 100"
      ]
    },
    {
      "cell_type": "code",
      "execution_count": 7,
      "metadata": {
        "id": "JNIRiK6xUxz7"
      },
      "outputs": [],
      "source": [
        "cat_cols = ['gender', 'relevent_experience', 'enrolled_university', 'education_level',\n",
        "            'major_discipline', 'company_size', 'company_type', 'last_new_job', 'city']"
      ]
    },
    {
      "cell_type": "code",
      "execution_count": 8,
      "metadata": {
        "id": "FemB3adAU1o3"
      },
      "outputs": [],
      "source": [
        "le = LabelEncoder()\n",
        "for col in cat_cols:\n",
        "    df[col] = le.fit_transform(df[col].astype(str))\n",
        "\n",
        "df.drop(['enrollee_id', 'experience', 'training_hours'], axis=1, inplace=True)"
      ]
    },
    {
      "cell_type": "code",
      "execution_count": 9,
      "metadata": {
        "id": "0y88jY42U4wa"
      },
      "outputs": [],
      "source": [
        "Xc = df.drop(['target', 'expected_salary', 'salary_growth_percent'], axis=1)\n",
        "yc = df['target']\n",
        "Xc_train, Xc_test, yc_train, yc_test = train_test_split(Xc, yc, test_size=0.2, random_state=42)"
      ]
    },
    {
      "cell_type": "code",
      "execution_count": 10,
      "metadata": {
        "colab": {
          "base_uri": "https://localhost:8080/"
        },
        "id": "gXSC6GnwU_VZ",
        "outputId": "2c00df1a-c9cb-43c4-bf1c-6a0468fdfdd4"
      },
      "outputs": [
        {
          "output_type": "stream",
          "name": "stdout",
          "text": [
            "Classification Report:\n",
            "               precision    recall  f1-score   support\n",
            "\n",
            "         0.0       0.84      0.88      0.86      2880\n",
            "         1.0       0.57      0.49      0.53       952\n",
            "\n",
            "    accuracy                           0.78      3832\n",
            "   macro avg       0.71      0.68      0.69      3832\n",
            "weighted avg       0.77      0.78      0.78      3832\n",
            "\n"
          ]
        }
      ],
      "source": [
        "clf = RandomForestClassifier()\n",
        "clf.fit(Xc_train, yc_train)\n",
        "print(\"Classification Report:\\n\", classification_report(yc_test, clf.predict(Xc_test)))"
      ]
    },
    {
      "cell_type": "code",
      "execution_count": 11,
      "metadata": {
        "id": "-j91HxmJzzs6"
      },
      "outputs": [],
      "source": [
        "import json\n",
        "\n",
        "# Save column names\n",
        "with open(\"feature_list.json\", \"w\") as f:\n",
        "    json.dump(Xc_train.columns.tolist(), f)\n",
        "\n",
        "# Save model as .gz\n",
        "import gzip\n",
        "with gzip.open(\"job_change_model.pkl.gz\", \"wb\") as f:\n",
        "    pickle.dump(clf, f)"
      ]
    },
    {
      "cell_type": "code",
      "execution_count": 12,
      "metadata": {
        "id": "8ecDqyt7VCgb"
      },
      "outputs": [],
      "source": [
        "df_reg = df[df['target'] == 1]\n",
        "Xr = df_reg.drop(['target', 'expected_salary', 'salary_growth_percent'], axis=1)\n",
        "yr = df_reg['salary_growth_percent']\n",
        "Xr_train, Xr_test, yr_train, yr_test = train_test_split(Xr, yr, test_size=0.2, random_state=42)"
      ]
    },
    {
      "cell_type": "code",
      "execution_count": 13,
      "metadata": {
        "id": "ylrCT4rbVKdJ"
      },
      "outputs": [],
      "source": [
        "# Save and compress models\n",
        "with open(\"job_change_model.pkl\", \"wb\") as f:\n",
        "    pickle.dump(clf, f)\n",
        "\n",
        "reg = RandomForestRegressor()\n",
        "# Drop rows with NaN in yr_train\n",
        "Xr_train_cleaned, yr_train_cleaned = Xr_train[~yr_train.isna()], yr_train[~yr_train.isna()]\n",
        "reg.fit(Xr_train_cleaned, yr_train_cleaned)\n",
        "\n",
        "with open(\"salary_growth_model.pkl\", \"wb\") as f:\n",
        "    pickle.dump(reg, f)"
      ]
    },
    {
      "cell_type": "code",
      "execution_count": 14,
      "metadata": {
        "id": "UprsWNokV3wJ"
      },
      "outputs": [],
      "source": [
        "# Compress\n",
        "with open(\"job_change_model.pkl\", 'rb') as f_in, gzip.open(\"job_change_model.pkl.gz\", 'wb') as f_out:\n",
        "    shutil.copyfileobj(f_in, f_out)"
      ]
    },
    {
      "cell_type": "code",
      "execution_count": 15,
      "metadata": {
        "id": "rfvHzyuRV6YO"
      },
      "outputs": [],
      "source": [
        "with open(\"salary_growth_model.pkl\", 'rb') as f_in, gzip.open(\"salary_growth_model.pkl.gz\", 'wb') as f_out:\n",
        "    shutil.copyfileobj(f_in, f_out)"
      ]
    },
    {
      "cell_type": "code",
      "execution_count": 16,
      "metadata": {
        "colab": {
          "base_uri": "https://localhost:8080/",
          "height": 52
        },
        "id": "lmmfQ-C0V9rI",
        "outputId": "713132e1-73bc-4d51-bac3-fe9cb683259b"
      },
      "outputs": [
        {
          "output_type": "display_data",
          "data": {
            "text/plain": [
              "<IPython.core.display.Javascript object>"
            ],
            "application/javascript": [
              "\n",
              "    async function download(id, filename, size) {\n",
              "      if (!google.colab.kernel.accessAllowed) {\n",
              "        return;\n",
              "      }\n",
              "      const div = document.createElement('div');\n",
              "      const label = document.createElement('label');\n",
              "      label.textContent = `Downloading \"${filename}\": `;\n",
              "      div.appendChild(label);\n",
              "      const progress = document.createElement('progress');\n",
              "      progress.max = size;\n",
              "      div.appendChild(progress);\n",
              "      document.body.appendChild(div);\n",
              "\n",
              "      const buffers = [];\n",
              "      let downloaded = 0;\n",
              "\n",
              "      const channel = await google.colab.kernel.comms.open(id);\n",
              "      // Send a message to notify the kernel that we're ready.\n",
              "      channel.send({})\n",
              "\n",
              "      for await (const message of channel.messages) {\n",
              "        // Send a message to notify the kernel that we're ready.\n",
              "        channel.send({})\n",
              "        if (message.buffers) {\n",
              "          for (const buffer of message.buffers) {\n",
              "            buffers.push(buffer);\n",
              "            downloaded += buffer.byteLength;\n",
              "            progress.value = downloaded;\n",
              "          }\n",
              "        }\n",
              "      }\n",
              "      const blob = new Blob(buffers, {type: 'application/binary'});\n",
              "      const a = document.createElement('a');\n",
              "      a.href = window.URL.createObjectURL(blob);\n",
              "      a.download = filename;\n",
              "      div.appendChild(a);\n",
              "      a.click();\n",
              "      div.remove();\n",
              "    }\n",
              "  "
            ]
          },
          "metadata": {}
        },
        {
          "output_type": "display_data",
          "data": {
            "text/plain": [
              "<IPython.core.display.Javascript object>"
            ],
            "application/javascript": [
              "download(\"download_b62ab293-22e8-4f4f-9cfe-6da568ee9627\", \"job_change_model.pkl.gz\", 7225086)"
            ]
          },
          "metadata": {}
        },
        {
          "output_type": "display_data",
          "data": {
            "text/plain": [
              "<IPython.core.display.Javascript object>"
            ],
            "application/javascript": [
              "\n",
              "    async function download(id, filename, size) {\n",
              "      if (!google.colab.kernel.accessAllowed) {\n",
              "        return;\n",
              "      }\n",
              "      const div = document.createElement('div');\n",
              "      const label = document.createElement('label');\n",
              "      label.textContent = `Downloading \"${filename}\": `;\n",
              "      div.appendChild(label);\n",
              "      const progress = document.createElement('progress');\n",
              "      progress.max = size;\n",
              "      div.appendChild(progress);\n",
              "      document.body.appendChild(div);\n",
              "\n",
              "      const buffers = [];\n",
              "      let downloaded = 0;\n",
              "\n",
              "      const channel = await google.colab.kernel.comms.open(id);\n",
              "      // Send a message to notify the kernel that we're ready.\n",
              "      channel.send({})\n",
              "\n",
              "      for await (const message of channel.messages) {\n",
              "        // Send a message to notify the kernel that we're ready.\n",
              "        channel.send({})\n",
              "        if (message.buffers) {\n",
              "          for (const buffer of message.buffers) {\n",
              "            buffers.push(buffer);\n",
              "            downloaded += buffer.byteLength;\n",
              "            progress.value = downloaded;\n",
              "          }\n",
              "        }\n",
              "      }\n",
              "      const blob = new Blob(buffers, {type: 'application/binary'});\n",
              "      const a = document.createElement('a');\n",
              "      a.href = window.URL.createObjectURL(blob);\n",
              "      a.download = filename;\n",
              "      div.appendChild(a);\n",
              "      a.click();\n",
              "      div.remove();\n",
              "    }\n",
              "  "
            ]
          },
          "metadata": {}
        },
        {
          "output_type": "display_data",
          "data": {
            "text/plain": [
              "<IPython.core.display.Javascript object>"
            ],
            "application/javascript": [
              "download(\"download_4250784b-3364-4751-a15e-fdf91dac005c\", \"salary_growth_model.pkl.gz\", 8586447)"
            ]
          },
          "metadata": {}
        }
      ],
      "source": [
        "# Download\n",
        "from google.colab import files\n",
        "files.download(\"job_change_model.pkl.gz\")\n",
        "files.download(\"salary_growth_model.pkl.gz\")"
      ]
    },
    {
      "cell_type": "code",
      "execution_count": 17,
      "metadata": {
        "colab": {
          "base_uri": "https://localhost:8080/"
        },
        "id": "31511ebb",
        "outputId": "fdaea33c-1002-4024-b0b7-5a7b288140a1"
      },
      "outputs": [
        {
          "output_type": "stream",
          "name": "stdout",
          "text": [
            "Requirement already satisfied: streamlit in /usr/local/lib/python3.11/dist-packages (1.47.0)\n",
            "Requirement already satisfied: altair<6,>=4.0 in /usr/local/lib/python3.11/dist-packages (from streamlit) (5.5.0)\n",
            "Requirement already satisfied: blinker<2,>=1.5.0 in /usr/local/lib/python3.11/dist-packages (from streamlit) (1.9.0)\n",
            "Requirement already satisfied: cachetools<7,>=4.0 in /usr/local/lib/python3.11/dist-packages (from streamlit) (5.5.2)\n",
            "Requirement already satisfied: click<9,>=7.0 in /usr/local/lib/python3.11/dist-packages (from streamlit) (8.2.1)\n",
            "Requirement already satisfied: numpy<3,>=1.23 in /usr/local/lib/python3.11/dist-packages (from streamlit) (2.0.2)\n",
            "Requirement already satisfied: packaging<26,>=20 in /usr/local/lib/python3.11/dist-packages (from streamlit) (25.0)\n",
            "Requirement already satisfied: pandas<3,>=1.4.0 in /usr/local/lib/python3.11/dist-packages (from streamlit) (2.2.2)\n",
            "Requirement already satisfied: pillow<12,>=7.1.0 in /usr/local/lib/python3.11/dist-packages (from streamlit) (11.2.1)\n",
            "Requirement already satisfied: protobuf<7,>=3.20 in /usr/local/lib/python3.11/dist-packages (from streamlit) (5.29.5)\n",
            "Requirement already satisfied: pyarrow>=7.0 in /usr/local/lib/python3.11/dist-packages (from streamlit) (18.1.0)\n",
            "Requirement already satisfied: requests<3,>=2.27 in /usr/local/lib/python3.11/dist-packages (from streamlit) (2.32.3)\n",
            "Requirement already satisfied: tenacity<10,>=8.1.0 in /usr/local/lib/python3.11/dist-packages (from streamlit) (8.5.0)\n",
            "Requirement already satisfied: toml<2,>=0.10.1 in /usr/local/lib/python3.11/dist-packages (from streamlit) (0.10.2)\n",
            "Requirement already satisfied: typing-extensions<5,>=4.4.0 in /usr/local/lib/python3.11/dist-packages (from streamlit) (4.14.1)\n",
            "Requirement already satisfied: watchdog<7,>=2.1.5 in /usr/local/lib/python3.11/dist-packages (from streamlit) (6.0.0)\n",
            "Requirement already satisfied: gitpython!=3.1.19,<4,>=3.0.7 in /usr/local/lib/python3.11/dist-packages (from streamlit) (3.1.44)\n",
            "Requirement already satisfied: pydeck<1,>=0.8.0b4 in /usr/local/lib/python3.11/dist-packages (from streamlit) (0.9.1)\n",
            "Requirement already satisfied: tornado!=6.5.0,<7,>=6.0.3 in /usr/local/lib/python3.11/dist-packages (from streamlit) (6.4.2)\n",
            "Requirement already satisfied: jinja2 in /usr/local/lib/python3.11/dist-packages (from altair<6,>=4.0->streamlit) (3.1.6)\n",
            "Requirement already satisfied: jsonschema>=3.0 in /usr/local/lib/python3.11/dist-packages (from altair<6,>=4.0->streamlit) (4.24.0)\n",
            "Requirement already satisfied: narwhals>=1.14.2 in /usr/local/lib/python3.11/dist-packages (from altair<6,>=4.0->streamlit) (1.47.0)\n",
            "Requirement already satisfied: gitdb<5,>=4.0.1 in /usr/local/lib/python3.11/dist-packages (from gitpython!=3.1.19,<4,>=3.0.7->streamlit) (4.0.12)\n",
            "Requirement already satisfied: python-dateutil>=2.8.2 in /usr/local/lib/python3.11/dist-packages (from pandas<3,>=1.4.0->streamlit) (2.9.0.post0)\n",
            "Requirement already satisfied: pytz>=2020.1 in /usr/local/lib/python3.11/dist-packages (from pandas<3,>=1.4.0->streamlit) (2025.2)\n",
            "Requirement already satisfied: tzdata>=2022.7 in /usr/local/lib/python3.11/dist-packages (from pandas<3,>=1.4.0->streamlit) (2025.2)\n",
            "Requirement already satisfied: charset-normalizer<4,>=2 in /usr/local/lib/python3.11/dist-packages (from requests<3,>=2.27->streamlit) (3.4.2)\n",
            "Requirement already satisfied: idna<4,>=2.5 in /usr/local/lib/python3.11/dist-packages (from requests<3,>=2.27->streamlit) (3.10)\n",
            "Requirement already satisfied: urllib3<3,>=1.21.1 in /usr/local/lib/python3.11/dist-packages (from requests<3,>=2.27->streamlit) (2.4.0)\n",
            "Requirement already satisfied: certifi>=2017.4.17 in /usr/local/lib/python3.11/dist-packages (from requests<3,>=2.27->streamlit) (2025.7.14)\n",
            "Requirement already satisfied: smmap<6,>=3.0.1 in /usr/local/lib/python3.11/dist-packages (from gitdb<5,>=4.0.1->gitpython!=3.1.19,<4,>=3.0.7->streamlit) (5.0.2)\n",
            "Requirement already satisfied: MarkupSafe>=2.0 in /usr/local/lib/python3.11/dist-packages (from jinja2->altair<6,>=4.0->streamlit) (3.0.2)\n",
            "Requirement already satisfied: attrs>=22.2.0 in /usr/local/lib/python3.11/dist-packages (from jsonschema>=3.0->altair<6,>=4.0->streamlit) (25.3.0)\n",
            "Requirement already satisfied: jsonschema-specifications>=2023.03.6 in /usr/local/lib/python3.11/dist-packages (from jsonschema>=3.0->altair<6,>=4.0->streamlit) (2025.4.1)\n",
            "Requirement already satisfied: referencing>=0.28.4 in /usr/local/lib/python3.11/dist-packages (from jsonschema>=3.0->altair<6,>=4.0->streamlit) (0.36.2)\n",
            "Requirement already satisfied: rpds-py>=0.7.1 in /usr/local/lib/python3.11/dist-packages (from jsonschema>=3.0->altair<6,>=4.0->streamlit) (0.26.0)\n",
            "Requirement already satisfied: six>=1.5 in /usr/local/lib/python3.11/dist-packages (from python-dateutil>=2.8.2->pandas<3,>=1.4.0->streamlit) (1.17.0)\n"
          ]
        }
      ],
      "source": [
        "!pip install streamlit\n",
        "import streamlit as st\n",
        "import pandas as pd\n",
        "import gzip, pickle"
      ]
    },
    {
      "cell_type": "code",
      "execution_count": 18,
      "metadata": {
        "id": "-QQugSyjWbPo",
        "colab": {
          "base_uri": "https://localhost:8080/"
        },
        "outputId": "906bf852-4ad6-40d1-c9b8-d16962e016f6"
      },
      "outputs": [
        {
          "output_type": "stream",
          "name": "stderr",
          "text": [
            "2025-07-20 10:32:04.067 WARNING streamlit.runtime.scriptrunner_utils.script_run_context: Thread 'MainThread': missing ScriptRunContext! This warning can be ignored when running in bare mode.\n",
            "2025-07-20 10:32:04.357 \n",
            "  \u001b[33m\u001b[1mWarning:\u001b[0m to view this Streamlit app on a browser, run it with the following\n",
            "  command:\n",
            "\n",
            "    streamlit run /usr/local/lib/python3.11/dist-packages/colab_kernel_launcher.py [ARGUMENTS]\n",
            "2025-07-20 10:32:04.361 Thread 'MainThread': missing ScriptRunContext! This warning can be ignored when running in bare mode.\n",
            "2025-07-20 10:32:04.363 Thread 'MainThread': missing ScriptRunContext! This warning can be ignored when running in bare mode.\n"
          ]
        },
        {
          "output_type": "execute_result",
          "data": {
            "text/plain": [
              "DeltaGenerator()"
            ]
          },
          "metadata": {},
          "execution_count": 18
        }
      ],
      "source": [
        "# Load models\n",
        "with gzip.open(\"job_change_model.pkl.gz\", \"rb\") as f:\n",
        "    job_model = pickle.load(f)\n",
        "\n",
        "with gzip.open(\"salary_growth_model.pkl.gz\", \"rb\") as f:\n",
        "    salary_model = pickle.load(f)\n",
        "\n",
        "st.title(\"Job Change & Salary Growth Predictor\")"
      ]
    },
    {
      "cell_type": "code",
      "execution_count": 19,
      "metadata": {
        "id": "23vl8lRlWhob",
        "colab": {
          "base_uri": "https://localhost:8080/"
        },
        "outputId": "c031f53e-6989-4fd9-949e-05b3707cd366"
      },
      "outputs": [
        {
          "output_type": "stream",
          "name": "stderr",
          "text": [
            "2025-07-20 10:32:04.377 Thread 'MainThread': missing ScriptRunContext! This warning can be ignored when running in bare mode.\n",
            "2025-07-20 10:32:04.381 Thread 'MainThread': missing ScriptRunContext! This warning can be ignored when running in bare mode.\n",
            "2025-07-20 10:32:04.384 Thread 'MainThread': missing ScriptRunContext! This warning can be ignored when running in bare mode.\n",
            "2025-07-20 10:32:04.385 Thread 'MainThread': missing ScriptRunContext! This warning can be ignored when running in bare mode.\n",
            "2025-07-20 10:32:04.386 Thread 'MainThread': missing ScriptRunContext! This warning can be ignored when running in bare mode.\n",
            "2025-07-20 10:32:04.387 Thread 'MainThread': missing ScriptRunContext! This warning can be ignored when running in bare mode.\n",
            "2025-07-20 10:32:04.388 Thread 'MainThread': missing ScriptRunContext! This warning can be ignored when running in bare mode.\n",
            "2025-07-20 10:32:04.389 Thread 'MainThread': missing ScriptRunContext! This warning can be ignored when running in bare mode.\n",
            "2025-07-20 10:32:04.391 Thread 'MainThread': missing ScriptRunContext! This warning can be ignored when running in bare mode.\n",
            "2025-07-20 10:32:04.392 Thread 'MainThread': missing ScriptRunContext! This warning can be ignored when running in bare mode.\n",
            "2025-07-20 10:32:04.393 Session state does not function when running a script without `streamlit run`\n",
            "2025-07-20 10:32:04.395 Thread 'MainThread': missing ScriptRunContext! This warning can be ignored when running in bare mode.\n",
            "2025-07-20 10:32:04.396 Thread 'MainThread': missing ScriptRunContext! This warning can be ignored when running in bare mode.\n",
            "2025-07-20 10:32:04.397 Thread 'MainThread': missing ScriptRunContext! This warning can be ignored when running in bare mode.\n",
            "2025-07-20 10:32:04.398 Thread 'MainThread': missing ScriptRunContext! This warning can be ignored when running in bare mode.\n",
            "2025-07-20 10:32:04.399 Thread 'MainThread': missing ScriptRunContext! This warning can be ignored when running in bare mode.\n",
            "2025-07-20 10:32:04.400 Thread 'MainThread': missing ScriptRunContext! This warning can be ignored when running in bare mode.\n",
            "2025-07-20 10:32:04.402 Thread 'MainThread': missing ScriptRunContext! This warning can be ignored when running in bare mode.\n",
            "2025-07-20 10:32:04.403 Thread 'MainThread': missing ScriptRunContext! This warning can be ignored when running in bare mode.\n",
            "2025-07-20 10:32:04.405 Thread 'MainThread': missing ScriptRunContext! This warning can be ignored when running in bare mode.\n",
            "2025-07-20 10:32:04.405 Thread 'MainThread': missing ScriptRunContext! This warning can be ignored when running in bare mode.\n",
            "2025-07-20 10:32:04.407 Thread 'MainThread': missing ScriptRunContext! This warning can be ignored when running in bare mode.\n",
            "2025-07-20 10:32:04.408 Thread 'MainThread': missing ScriptRunContext! This warning can be ignored when running in bare mode.\n",
            "2025-07-20 10:32:04.409 Thread 'MainThread': missing ScriptRunContext! This warning can be ignored when running in bare mode.\n",
            "2025-07-20 10:32:04.410 Thread 'MainThread': missing ScriptRunContext! This warning can be ignored when running in bare mode.\n",
            "2025-07-20 10:32:04.411 Thread 'MainThread': missing ScriptRunContext! This warning can be ignored when running in bare mode.\n",
            "2025-07-20 10:32:04.413 Thread 'MainThread': missing ScriptRunContext! This warning can be ignored when running in bare mode.\n",
            "2025-07-20 10:32:04.414 Thread 'MainThread': missing ScriptRunContext! This warning can be ignored when running in bare mode.\n",
            "2025-07-20 10:32:04.415 Thread 'MainThread': missing ScriptRunContext! This warning can be ignored when running in bare mode.\n",
            "2025-07-20 10:32:04.416 Thread 'MainThread': missing ScriptRunContext! This warning can be ignored when running in bare mode.\n",
            "2025-07-20 10:32:04.418 Thread 'MainThread': missing ScriptRunContext! This warning can be ignored when running in bare mode.\n",
            "2025-07-20 10:32:04.419 Thread 'MainThread': missing ScriptRunContext! This warning can be ignored when running in bare mode.\n",
            "2025-07-20 10:32:04.420 Thread 'MainThread': missing ScriptRunContext! This warning can be ignored when running in bare mode.\n",
            "2025-07-20 10:32:04.421 Thread 'MainThread': missing ScriptRunContext! This warning can be ignored when running in bare mode.\n",
            "2025-07-20 10:32:04.422 Thread 'MainThread': missing ScriptRunContext! This warning can be ignored when running in bare mode.\n"
          ]
        }
      ],
      "source": [
        "# Input form\n",
        "experience = st.slider(\"Experience (years)\", 0.0, 30.0, 2.0, 0.5)\n",
        "salary = st.number_input(\"Current Salary (INR)\", 100000, 5000000, step=10000)\n",
        "education_level = st.selectbox(\"Education Level\", [\"Graduate\", \"Masters\", \"Phd\", \"High School\", \"Other\"])\n",
        "company_size = st.selectbox(\"Company Size\", [\"<10\", \"10-49\", \"50-99\", \"100-500\", \"500-999\", \"1000-4999\", \"5000-9999\", \"10000+\"])\n",
        "relevent_experience = st.selectbox(\"Relevant Experience\", [\"Yes\", \"No\"])"
      ]
    },
    {
      "cell_type": "code",
      "execution_count": 20,
      "metadata": {
        "id": "qB6ug8Z0Wk78"
      },
      "outputs": [],
      "source": [
        "\n",
        "# Encoding values\n",
        "edu_map = {\"High School\": 0, \"Graduate\": 1, \"Masters\": 2, \"Phd\": 3, \"Other\": 4}\n",
        "comp_map = {size: i for i, size in enumerate([\"<10\", \"10-49\", \"50-99\", \"100-500\", \"500-999\", \"1000-4999\", \"5000-9999\", \"10000+\"])}\n",
        "rel_exp_map = {\"No\": 0, \"Yes\": 1}"
      ]
    },
    {
      "cell_type": "code",
      "execution_count": 21,
      "metadata": {
        "id": "ryTJkYgWWoyz"
      },
      "outputs": [],
      "source": [
        "input_df = pd.DataFrame([{\n",
        "    'gender': 1,  # dummy\n",
        "    'relevent_experience': rel_exp_map[relevent_experience],\n",
        "    'enrolled_university': 0,\n",
        "    'education_level': edu_map[education_level],\n",
        "    'major_discipline': 1,\n",
        "    'company_size': comp_map[company_size],\n",
        "    'company_type': 1,\n",
        "    'last_new_job': 1,\n",
        "    'city': 1,\n",
        "    'experience_numeric': experience,\n",
        "    'current_salary': salary\n",
        "}])"
      ]
    },
    {
      "cell_type": "code",
      "execution_count": 22,
      "metadata": {
        "id": "hVhQbE_jWrTY",
        "colab": {
          "base_uri": "https://localhost:8080/"
        },
        "outputId": "0b84de6b-1b91-47a6-bee0-b7bdabcee387"
      },
      "outputs": [
        {
          "output_type": "stream",
          "name": "stderr",
          "text": [
            "2025-07-20 10:32:04.464 Thread 'MainThread': missing ScriptRunContext! This warning can be ignored when running in bare mode.\n",
            "2025-07-20 10:32:04.465 Thread 'MainThread': missing ScriptRunContext! This warning can be ignored when running in bare mode.\n",
            "2025-07-20 10:32:04.466 Thread 'MainThread': missing ScriptRunContext! This warning can be ignored when running in bare mode.\n",
            "2025-07-20 10:32:04.468 Thread 'MainThread': missing ScriptRunContext! This warning can be ignored when running in bare mode.\n",
            "2025-07-20 10:32:04.470 Thread 'MainThread': missing ScriptRunContext! This warning can be ignored when running in bare mode.\n",
            "2025-07-20 10:32:04.472 Thread 'MainThread': missing ScriptRunContext! This warning can be ignored when running in bare mode.\n"
          ]
        }
      ],
      "source": [
        "if st.button(\"Predict\"):\n",
        "    job_change = job_model.predict(input_df)[0]\n",
        "    if job_change == 1:\n",
        "        growth = salary_model.predict(input_df)[0]\n",
        "        new_salary = salary * (1 + growth / 100)\n",
        "        st.success(\"This person is likely to change jobs.\")\n",
        "        st.write(f\"Estimated Salary Growth: **{growth:.2f}%**\")\n",
        "        st.write(f\"New Estimated Salary: ₹{new_salary:,.0f}\")\n",
        "    else:\n",
        "        st.warning(\"Unlikely to change jobs.\")"
      ]
    },
    {
      "cell_type": "code",
      "execution_count": 23,
      "metadata": {
        "id": "fdTpnm3HWxKo",
        "colab": {
          "base_uri": "https://localhost:8080/"
        },
        "outputId": "5676ec0a-4778-49bf-d806-a2246c0f7bb6"
      },
      "outputs": [
        {
          "output_type": "stream",
          "name": "stdout",
          "text": [
            "requirements.txt created\n"
          ]
        }
      ],
      "source": [
        "with open(\"requirements.txt\", \"w\") as f:\n",
        "    f.write(\"streamlit\\nscikit-learn\\npandas\\nnumpy\")\n",
        "\n",
        "print(\"requirements.txt created\")"
      ]
    },
    {
      "cell_type": "code",
      "execution_count": 24,
      "metadata": {
        "id": "4F39bARoXCRC",
        "colab": {
          "base_uri": "https://localhost:8080/"
        },
        "outputId": "609c3e12-8495-4163-9737-be638b28a72a"
      },
      "outputs": [
        {
          "output_type": "stream",
          "name": "stdout",
          "text": [
            "app.py created with all features\n"
          ]
        }
      ],
      "source": [
        "app_code = '''\n",
        "import streamlit as st\n",
        "import pickle\n",
        "import pandas as pd\n",
        "import gzip\n",
        "import json\n",
        "\n",
        "# Load the compressed models\n",
        "with gzip.open(\"job_change_model.pkl.gz\", \"rb\") as f:\n",
        "    job_model = pickle.load(f)\n",
        "\n",
        "with gzip.open(\"salary_growth_model.pkl.gz\", \"rb\") as f:\n",
        "    salary_model = pickle.load(f)\n",
        "\n",
        "# Load feature names\n",
        "with open(\"feature_list.json\", \"r\") as f:\n",
        "    feature_list = json.load(f)\n",
        "\n",
        "st.set_page_config(page_title=\"Job Change and Salary Predictor\")\n",
        "st.title(\"Job Change and Salary Prediction Web App\")\n",
        "\n",
        "# Input form\n",
        "experience = st.slider(\"Experience (years)\", 0.0, 30.0, 2.0, 0.5)\n",
        "salary = st.number_input(\"Current Salary (INR)\", 100000, 5000000, step=10000)\n",
        "education_level = st.selectbox(\"Education Level\", [\"Graduate\", \"Masters\", \"Phd\", \"High School\", \"Other\"])\n",
        "company_size = st.selectbox(\"Company Size\", [\"<10\", \"10-49\", \"50-99\", \"100-500\", \"500-999\", \"1000-4999\", \"5000-9999\", \"10000+\"])\n",
        "relevent_experience = st.selectbox(\"Relevant Experience\", [\"Yes\", \"No\"])\n",
        "\n",
        "# Encoding values (These should match the encoding used in the notebook)\n",
        "edu_map = {\"High School\": 0, \"Graduate\": 1, \"Masters\": 2, \"Phd\": 3, \"Other\": 4}\n",
        "comp_map = {size: i for i, size in enumerate([\"<10\", \"10-49\", \"50-99\", \"100-500\", \"500-999\", \"1000-4999\", \"5000-9999\", \"10000+\"])}\n",
        "rel_exp_map = {\"No\": 0, \"Yes\": 1}\n",
        "\n",
        "if st.button(\"Predict\"):\n",
        "    # Create input DataFrame with all features, using dummy values for those not in the form\n",
        "    input_data = {\n",
        "        'city': 1, # Dummy value\n",
        "        'city_development_index': 0.8, # Dummy value\n",
        "        'gender': 1,  # Dummy value\n",
        "        'relevent_experience': rel_exp_map[relevent_experience],\n",
        "        'enrolled_university': 0, # Dummy value\n",
        "        'education_level': edu_map[education_level],\n",
        "        'major_discipline': 1, # Dummy value\n",
        "        'company_size': comp_map[company_size],\n",
        "        'company_type': 1, # Dummy value\n",
        "        'last_new_job': 1, # Dummy value\n",
        "        'experience_numeric': experience,\n",
        "        'current_salary': salary\n",
        "    }\n",
        "\n",
        "    input_df = pd.DataFrame([input_data])\n",
        "\n",
        "    # Ensure the column order matches the training data\n",
        "    input_df = input_df[feature_list]\n",
        "\n",
        "    job_change = job_model.predict(input_df)[0]\n",
        "\n",
        "    if job_change == 1:\n",
        "        growth = salary_model.predict(input_df)[0]\n",
        "        new_salary = salary * (1 + growth / 100)\n",
        "        st.success(\"This person is likely to change jobs.\")\n",
        "        st.write(f\"Estimated Salary Growth: **{growth:.2f}%**\")\n",
        "        st.write(f\"New Estimated Salary: ₹{new_salary:,.0f}\")\n",
        "    else:\n",
        "        st.warning(\"Unlikely to change jobs.\")\n",
        "'''\n",
        "with open(\"app.py\", \"w\") as f:\n",
        "    f.write(app_code)\n",
        "\n",
        "print(\"app.py created with all features\")"
      ]
    },
    {
      "cell_type": "code",
      "execution_count": 25,
      "metadata": {
        "id": "XvWVdYdVXi9Q",
        "colab": {
          "base_uri": "https://localhost:8080/"
        },
        "outputId": "0a12a098-ee88-4c7d-b68c-b8eeb39ef20f"
      },
      "outputs": [
        {
          "output_type": "stream",
          "name": "stderr",
          "text": [
            "2025-07-20 10:32:04.903 Thread 'MainThread': missing ScriptRunContext! This warning can be ignored when running in bare mode.\n",
            "2025-07-20 10:32:04.904 Thread 'MainThread': missing ScriptRunContext! This warning can be ignored when running in bare mode.\n",
            "2025-07-20 10:32:04.905 Thread 'MainThread': missing ScriptRunContext! This warning can be ignored when running in bare mode.\n",
            "2025-07-20 10:32:04.908 Thread 'MainThread': missing ScriptRunContext! This warning can be ignored when running in bare mode.\n",
            "2025-07-20 10:32:04.910 Thread 'MainThread': missing ScriptRunContext! This warning can be ignored when running in bare mode.\n",
            "2025-07-20 10:32:04.911 Thread 'MainThread': missing ScriptRunContext! This warning can be ignored when running in bare mode.\n",
            "2025-07-20 10:32:04.912 Thread 'MainThread': missing ScriptRunContext! This warning can be ignored when running in bare mode.\n",
            "2025-07-20 10:32:04.915 Thread 'MainThread': missing ScriptRunContext! This warning can be ignored when running in bare mode.\n",
            "2025-07-20 10:32:04.916 Thread 'MainThread': missing ScriptRunContext! This warning can be ignored when running in bare mode.\n",
            "2025-07-20 10:32:04.917 Thread 'MainThread': missing ScriptRunContext! This warning can be ignored when running in bare mode.\n",
            "2025-07-20 10:32:04.919 Thread 'MainThread': missing ScriptRunContext! This warning can be ignored when running in bare mode.\n",
            "2025-07-20 10:32:04.920 Thread 'MainThread': missing ScriptRunContext! This warning can be ignored when running in bare mode.\n",
            "2025-07-20 10:32:04.920 Thread 'MainThread': missing ScriptRunContext! This warning can be ignored when running in bare mode.\n",
            "2025-07-20 10:32:04.921 Thread 'MainThread': missing ScriptRunContext! This warning can be ignored when running in bare mode.\n",
            "2025-07-20 10:32:04.922 Thread 'MainThread': missing ScriptRunContext! This warning can be ignored when running in bare mode.\n",
            "2025-07-20 10:32:04.923 Thread 'MainThread': missing ScriptRunContext! This warning can be ignored when running in bare mode.\n"
          ]
        }
      ],
      "source": [
        "\n",
        "import streamlit as st\n",
        "import pandas as pd\n",
        "import gzip\n",
        "import pickle\n",
        "\n",
        "# Load the compressed model\n",
        "with gzip.open(\"job_change_model.pkl.gz\", \"rb\") as f:\n",
        "    model = pickle.load(f)\n",
        "\n",
        "st.set_page_config(page_title=\"Salary Predictor\")\n",
        "st.title(\"Employee Salary Predictor\")\n",
        "\n",
        "experience = st.slider(\"Years of Experience\", 0, 30, 2)\n",
        "\n",
        "if st.button(\"Predict Salary\"):\n",
        "    input_df = pd.DataFrame([[experience]], columns=[\"experience\"])\n",
        "    prediction = model.predict(input_df)[0]\n",
        "    st.success(f\"Estimated Salary: ₹{int(prediction):,}\")\n"
      ]
    },
    {
      "cell_type": "code",
      "execution_count": 26,
      "metadata": {
        "id": "mEzp39NWvCUp"
      },
      "outputs": [],
      "source": [
        "features = ['education_level', 'relevent_experience', 'company_size', 'experience_numeric', 'current_salary']\n",
        "\n",
        "# Save to a file\n",
        "import json\n",
        "with open(\"feature_list.json\", \"w\") as f:\n",
        "    json.dump(features, f)\n"
      ]
    },
    {
      "cell_type": "code",
      "execution_count": 27,
      "metadata": {
        "id": "aiJtzFfCatjs",
        "colab": {
          "base_uri": "https://localhost:8080/"
        },
        "outputId": "61df19ec-f3f2-4ff9-dc0b-32111211c71e"
      },
      "outputs": [
        {
          "output_type": "stream",
          "name": "stdout",
          "text": [
            "\n",
            "MAE Salary Growth %: 5.138369405164441\n"
          ]
        }
      ],
      "source": [
        "reg = RandomForestRegressor()\n",
        "# Drop rows with NaN in yr_train\n",
        "Xr_train, yr_train = Xr_train[~yr_train.isna()], yr_train[~yr_train.isna()]\n",
        "reg.fit(Xr_train, yr_train)\n",
        "# Drop rows with NaN in yr_test\n",
        "Xr_test, yr_test = Xr_test[~yr_test.isna()], yr_test[~yr_test.isna()]\n",
        "yr_pred = reg.predict(Xr_test)\n",
        "print(\"\\nMAE Salary Growth %:\", mean_absolute_error(yr_test, yr_pred))"
      ]
    },
    {
      "cell_type": "code",
      "metadata": {
        "colab": {
          "base_uri": "https://localhost:8080/"
        },
        "id": "e7a37959",
        "outputId": "65f129ea-fe1f-44f8-fb1b-635d82be1aa7"
      },
      "source": [
        "!pip install pyngrok"
      ],
      "execution_count": 28,
      "outputs": [
        {
          "output_type": "stream",
          "name": "stdout",
          "text": [
            "Requirement already satisfied: pyngrok in /usr/local/lib/python3.11/dist-packages (7.2.12)\n",
            "Requirement already satisfied: PyYAML>=5.1 in /usr/local/lib/python3.11/dist-packages (from pyngrok) (6.0.2)\n"
          ]
        }
      ]
    },
    {
      "cell_type": "code",
      "metadata": {
        "colab": {
          "base_uri": "https://localhost:8080/"
        },
        "id": "f71c9af6",
        "outputId": "17ba3457-6f14-4425-c300-eae88cb2f42a"
      },
      "source": [
        "from pyngrok import ngrok\n",
        "import os\n",
        "\n",
        "# Terminate open tunnels if any\n",
        "ngrok.kill()\n",
        "\n",
        "# Get ngrok authtoken from environment variables or Colab secrets\n",
        "# Assumes you have saved your ngrok authtoken in Colab secrets as 'NGROK_AUTH_TOKEN'\n",
        "# You can get your authtoken from https://dashboard.ngrok.com/auth\n",
        "NGROK_AUTH_TOKEN = os.environ.get(\"NGROK_AUTH_TOKEN\") or \"308P5ZfGvOYidFoMrTTD8S81j8C_4zJE9NqPNBLGkofbTEaVC\"\n",
        "\n",
        "if NGROK_AUTH_TOKEN == \"308P5ZfGvOYidFoMrTTD8S81j8C_4zJE9NqPNBLGkofbTEaVC\":\n",
        "  print(\"Please add your ngrok authtoken to Colab secrets or environment variables!\")\n",
        "else:\n",
        "  ngrok.set_auth_token(NGROK_AUTH_TOKEN)\n",
        "  # Open a tunnel to the Streamlit port\n",
        "  public_url = ngrok.connect(8501)\n",
        "  print(f\" * ngrok tunnel available at: {public_url}\")"
      ],
      "execution_count": 29,
      "outputs": [
        {
          "output_type": "stream",
          "name": "stdout",
          "text": [
            "Please add your ngrok authtoken to Colab secrets or environment variables!\n"
          ]
        }
      ]
    },
    {
      "cell_type": "code",
      "execution_count": 30,
      "metadata": {
        "colab": {
          "base_uri": "https://localhost:8080/"
        },
        "id": "c3659953",
        "outputId": "1b9f2764-2845-4dbd-cc87-11b655dd721d"
      },
      "outputs": [
        {
          "output_type": "stream",
          "name": "stdout",
          "text": [
            "\n",
            "MAE Salary Growth %: 5.026992016665521\n"
          ]
        }
      ],
      "source": [
        "from sklearn.ensemble import RandomForestRegressor\n",
        "from sklearn.metrics import mean_absolute_error\n",
        "import pandas as pd # Assuming pandas is needed for isna()\n",
        "from sklearn.model_selection import train_test_split\n",
        "import numpy as np\n",
        "from sklearn.preprocessing import LabelEncoder # Import LabelEncoder\n",
        "\n",
        "# Code from cell XYM2pLBaUlwZ to define df\n",
        "df = pd.read_csv(\"aug_train.csv\")\n",
        "\n",
        "# Code from cell WXsBQDtRUpgx to drop rows with missing target\n",
        "df.dropna(subset=['target'], inplace=True)\n",
        "\n",
        "# Code from cell JkMVobydUr3a and Ia4NLKgJUuyH to add simulated salary\n",
        "def salary_simulation(row):\n",
        "    exp = row['experience']\n",
        "    if exp == '<1':\n",
        "        exp = 0.5\n",
        "    elif exp == '>20':\n",
        "        exp = 21\n",
        "    else:\n",
        "        try:\n",
        "            exp = float(exp)\n",
        "        except:\n",
        "            exp = 2\n",
        "    base = 3 + exp * np.random.uniform(0.4, 1.0)\n",
        "    return round(base * 1e5, -3)\n",
        "\n",
        "df['experience_numeric'] = df['experience'].replace({'<1': 0.5, '>20': 21}).astype(float)\n",
        "df['current_salary'] = df.apply(salary_simulation, axis=1)\n",
        "df['expected_salary'] = df['current_salary'] * df['experience_numeric'].apply(lambda x: 1 + np.random.uniform(0.15, 0.35))\n",
        "df['salary_growth_percent'] = ((df['expected_salary'] - df['current_salary']) / df['current_salary']) * 100\n",
        "\n",
        "# Code from cell FemB3adAU1o3 to encode categorical features and drop columns\n",
        "cat_cols = ['gender', 'relevent_experience', 'enrolled_university', 'education_level',\n",
        "            'major_discipline', 'company_size', 'company_type', 'last_new_job', 'city']\n",
        "\n",
        "le = LabelEncoder()\n",
        "for col in cat_cols:\n",
        "    df[col] = le.fit_transform(df[col].astype(str))\n",
        "\n",
        "# Drop original 'experience' column and other unnecessary columns before splitting\n",
        "df.drop(['enrollee_id', 'experience', 'training_hours'], axis=1, inplace=True)\n",
        "\n",
        "\n",
        "# Code from cell 8ecDqyt7VCgb to define Xr_train, yr_train, Xr_test, yr_test\n",
        "df_reg = df[df['target'] == 1]\n",
        "Xr = df_reg.drop(['target', 'expected_salary', 'salary_growth_percent'], axis=1)\n",
        "yr = df_reg['salary_growth_percent']\n",
        "Xr_train, Xr_test, yr_train, yr_test = train_test_split(Xr, yr, test_size=0.2, random_state=42)\n",
        "\n",
        "\n",
        "reg = RandomForestRegressor()\n",
        "# Drop rows with NaN in yr_train\n",
        "Xr_train_cleaned, yr_train_cleaned = Xr_train[~yr_train.isna()], yr_train[~yr_train.isna()]\n",
        "reg.fit(Xr_train_cleaned, yr_train_cleaned)\n",
        "# Drop rows with NaN in yr_test\n",
        "Xr_test_cleaned, yr_test_cleaned = Xr_test[~Xr_test.isna().any(axis=1)], yr_test[~Xr_test.isna().any(axis=1)]\n",
        "yr_pred = reg.predict(Xr_test_cleaned)\n",
        "print(\"\\nMAE Salary Growth %:\", mean_absolute_error(yr_test_cleaned, yr_pred))"
      ]
    },
    {
      "cell_type": "markdown",
      "source": [],
      "metadata": {
        "id": "VOjNo3vbXHCd"
      }
    },
    {
      "cell_type": "code",
      "source": [
        "!wget -q -O - ipv4.icanhazip.com"
      ],
      "metadata": {
        "colab": {
          "base_uri": "https://localhost:8080/"
        },
        "id": "6hOxvonsPpdD",
        "outputId": "83dfbd8b-0d08-42ba-969d-36ecf2c7a962"
      },
      "execution_count": 32,
      "outputs": [
        {
          "output_type": "stream",
          "name": "stdout",
          "text": [
            "34.132.47.176\n"
          ]
        }
      ]
    },
    {
      "cell_type": "code",
      "source": [
        "! streamlit run app.py & npx localtunnel --port 8501"
      ],
      "metadata": {
        "colab": {
          "base_uri": "https://localhost:8080/"
        },
        "id": "Hdr8NFy-QIY4",
        "outputId": "5135e40e-d3ee-4ce2-8b52-8b771a7a965f"
      },
      "execution_count": null,
      "outputs": [
        {
          "output_type": "stream",
          "name": "stdout",
          "text": [
            "\u001b[1G\u001b[0K⠙\u001b[1G\u001b[0K⠹\n",
            "Collecting usage statistics. To deactivate, set browser.gatherUsageStats to false.\n",
            "\u001b[0m\n",
            "\u001b[1G\u001b[0K⠸\u001b[1G\u001b[0K⠼\u001b[1G\u001b[0K⠴\u001b[1G\u001b[0K⠦\u001b[1G\u001b[0K⠧\u001b[0m\n",
            "\u001b[34m\u001b[1m  You can now view your Streamlit app in your browser.\u001b[0m\n",
            "\u001b[0m\n",
            "\u001b[34m  Local URL: \u001b[0m\u001b[1mhttp://localhost:8501\u001b[0m\n",
            "\u001b[34m  Network URL: \u001b[0m\u001b[1mhttp://172.28.0.12:8501\u001b[0m\n",
            "\u001b[34m  External URL: \u001b[0m\u001b[1mhttp://34.132.47.176:8501\u001b[0m\n",
            "\u001b[0m\n",
            "\u001b[1G\u001b[0K⠇\u001b[1G\u001b[0K⠏\u001b[1G\u001b[0K⠋\u001b[1G\u001b[0K⠙\u001b[1G\u001b[0K⠹\u001b[1G\u001b[0K⠸\u001b[1G\u001b[0K⠼\u001b[1G\u001b[0K⠴\u001b[1G\u001b[0K⠦\u001b[1G\u001b[0K⠧\u001b[1G\u001b[0K⠇\u001b[1G\u001b[0Kyour url is: https://every-carrots-dance.loca.lt\n",
            "\u001b[31m──\u001b[0m\u001b[31m────────────────────────\u001b[0m\u001b[31m \u001b[0m\u001b[1;31mTraceback \u001b[0m\u001b[1;2;31m(most recent call last)\u001b[0m\u001b[31m \u001b[0m\u001b[31m─────────────────────────\u001b[0m\u001b[31m──\u001b[0m\n",
            "\u001b[31m \u001b[0m \u001b[2;33m/usr/local/lib/python3.11/dist-packages/streamlit/runtime/scriptrunner/\u001b[0m\u001b[1;33mexec_code.py\u001b[0m: \u001b[31m \u001b[0m\n",
            "\u001b[31m \u001b[0m \u001b[94m128\u001b[0m in \u001b[92mexec_func_with_error_handling\u001b[0m                                                 \u001b[31m \u001b[0m\n",
            "\u001b[31m \u001b[0m                                                                                      \u001b[31m \u001b[0m\n",
            "\u001b[31m \u001b[0m \u001b[2;33m/usr/local/lib/python3.11/dist-packages/streamlit/runtime/scriptrunner/\u001b[0m\u001b[1;33mscript_runner\u001b[0m \u001b[31m \u001b[0m\n",
            "\u001b[31m \u001b[0m \u001b[1;33m.py\u001b[0m:\u001b[94m669\u001b[0m in \u001b[92mcode_to_exec\u001b[0m                                                              \u001b[31m \u001b[0m\n",
            "\u001b[31m \u001b[0m                                                                                      \u001b[31m \u001b[0m\n",
            "\u001b[31m \u001b[0m \u001b[2;33m/content/\u001b[0m\u001b[1;33mapp.py\u001b[0m:\u001b[94m56\u001b[0m in \u001b[92m<module>\u001b[0m                                                       \u001b[31m \u001b[0m\n",
            "\u001b[31m \u001b[0m                                                                                      \u001b[31m \u001b[0m\n",
            "\u001b[31m \u001b[0m   \u001b[2m53 \u001b[0m\u001b[2m│   \u001b[0m\u001b[2m# Ensure the column order matches the training data\u001b[0m                         \u001b[31m \u001b[0m\n",
            "\u001b[31m \u001b[0m   \u001b[2m54 \u001b[0m\u001b[2m│   \u001b[0minput_df = input_df[feature_list]                                           \u001b[31m \u001b[0m\n",
            "\u001b[31m \u001b[0m   \u001b[2m55 \u001b[0m\u001b[2m│   \u001b[0m                                                                            \u001b[31m \u001b[0m\n",
            "\u001b[31m \u001b[0m \u001b[31m❱ \u001b[0m56 \u001b[2m│   \u001b[0mjob_change = \u001b[1;4mjob_model.predict(input_df)\u001b[0m[\u001b[94m0\u001b[0m]                                 \u001b[31m \u001b[0m\n",
            "\u001b[31m \u001b[0m   \u001b[2m57 \u001b[0m\u001b[2m│   \u001b[0m                                                                            \u001b[31m \u001b[0m\n",
            "\u001b[31m \u001b[0m   \u001b[2m58 \u001b[0m\u001b[2m│   \u001b[0m\u001b[94mif\u001b[0m job_change == \u001b[94m1\u001b[0m:                                                         \u001b[31m \u001b[0m\n",
            "\u001b[31m \u001b[0m   \u001b[2m59 \u001b[0m\u001b[2m│   │   \u001b[0mgrowth = salary_model.predict(input_df)[\u001b[94m0\u001b[0m]                              \u001b[31m \u001b[0m\n",
            "\u001b[31m \u001b[0m                                                                                      \u001b[31m \u001b[0m\n",
            "\u001b[31m \u001b[0m \u001b[2;33m/usr/local/lib/python3.11/dist-packages/sklearn/ensemble/\u001b[0m\u001b[1;33m_forest.py\u001b[0m:\u001b[94m904\u001b[0m in \u001b[92mpredict\u001b[0m   \u001b[31m \u001b[0m\n",
            "\u001b[31m \u001b[0m                                                                                      \u001b[31m \u001b[0m\n",
            "\u001b[31m \u001b[0m   \u001b[2m 901 \u001b[0m\u001b[2;33m│   │   \u001b[0m\u001b[33my : ndarray of shape (n_samples,) or (n_samples, n_outputs)\u001b[0m           \u001b[31m \u001b[0m\n",
            "\u001b[31m \u001b[0m   \u001b[2m 902 \u001b[0m\u001b[2;33m│   │   │   \u001b[0m\u001b[33mThe predicted classes.\u001b[0m                                            \u001b[31m \u001b[0m\n",
            "\u001b[31m \u001b[0m   \u001b[2m 903 \u001b[0m\u001b[2;33m│   │   \u001b[0m\u001b[33m\"\"\"\u001b[0m                                                                   \u001b[31m \u001b[0m\n",
            "\u001b[31m \u001b[0m \u001b[31m❱ \u001b[0m 904 \u001b[2m│   │   \u001b[0mproba = \u001b[1;4;96mself\u001b[0m\u001b[1;4m.predict_proba(X)\u001b[0m                                         \u001b[31m \u001b[0m\n",
            "\u001b[31m \u001b[0m   \u001b[2m 905 \u001b[0m\u001b[2m│   │   \u001b[0m                                                                      \u001b[31m \u001b[0m\n",
            "\u001b[31m \u001b[0m   \u001b[2m 906 \u001b[0m\u001b[2m│   │   \u001b[0m\u001b[94mif\u001b[0m \u001b[96mself\u001b[0m.n_outputs_ == \u001b[94m1\u001b[0m:                                              \u001b[31m \u001b[0m\n",
            "\u001b[31m \u001b[0m   \u001b[2m 907 \u001b[0m\u001b[2m│   │   │   \u001b[0m\u001b[94mreturn\u001b[0m \u001b[96mself\u001b[0m.classes_.take(np.argmax(proba, axis=\u001b[94m1\u001b[0m), axis=\u001b[94m0\u001b[0m)       \u001b[31m \u001b[0m\n",
            "\u001b[31m \u001b[0m                                                                                      \u001b[31m \u001b[0m\n",
            "\u001b[31m \u001b[0m \u001b[2;33m/usr/local/lib/python3.11/dist-packages/sklearn/ensemble/\u001b[0m\u001b[1;33m_forest.py\u001b[0m:\u001b[94m946\u001b[0m in           \u001b[31m \u001b[0m\n",
            "\u001b[31m \u001b[0m \u001b[92mpredict_proba\u001b[0m                                                                        \u001b[31m \u001b[0m\n",
            "\u001b[31m \u001b[0m                                                                                      \u001b[31m \u001b[0m\n",
            "\u001b[31m \u001b[0m   \u001b[2m 943 \u001b[0m\u001b[2;33m│   │   \u001b[0m\u001b[33m\"\"\"\u001b[0m                                                                   \u001b[31m \u001b[0m\n",
            "\u001b[31m \u001b[0m   \u001b[2m 944 \u001b[0m\u001b[2m│   │   \u001b[0mcheck_is_fitted(\u001b[96mself\u001b[0m)                                                 \u001b[31m \u001b[0m\n",
            "\u001b[31m \u001b[0m   \u001b[2m 945 \u001b[0m\u001b[2m│   │   \u001b[0m\u001b[2m# Check data\u001b[0m                                                          \u001b[31m \u001b[0m\n",
            "\u001b[31m \u001b[0m \u001b[31m❱ \u001b[0m 946 \u001b[2m│   │   \u001b[0mX = \u001b[1;4;96mself\u001b[0m\u001b[1;4m._validate_X_predict(X)\u001b[0m                                       \u001b[31m \u001b[0m\n",
            "\u001b[31m \u001b[0m   \u001b[2m 947 \u001b[0m\u001b[2m│   │   \u001b[0m                                                                      \u001b[31m \u001b[0m\n",
            "\u001b[31m \u001b[0m   \u001b[2m 948 \u001b[0m\u001b[2m│   │   \u001b[0m\u001b[2m# Assign chunk of trees to jobs\u001b[0m                                       \u001b[31m \u001b[0m\n",
            "\u001b[31m \u001b[0m   \u001b[2m 949 \u001b[0m\u001b[2m│   │   \u001b[0mn_jobs, _, _ = _partition_estimators(\u001b[96mself\u001b[0m.n_estimators, \u001b[96mself\u001b[0m.n_jobs)  \u001b[31m \u001b[0m\n",
            "\u001b[31m \u001b[0m                                                                                      \u001b[31m \u001b[0m\n",
            "\u001b[31m \u001b[0m \u001b[2;33m/usr/local/lib/python3.11/dist-packages/sklearn/ensemble/\u001b[0m\u001b[1;33m_forest.py\u001b[0m:\u001b[94m638\u001b[0m in           \u001b[31m \u001b[0m\n",
            "\u001b[31m \u001b[0m \u001b[92m_validate_X_predict\u001b[0m                                                                  \u001b[31m \u001b[0m\n",
            "\u001b[31m \u001b[0m                                                                                      \u001b[31m \u001b[0m\n",
            "\u001b[31m \u001b[0m   \u001b[2m 635 \u001b[0m\u001b[2m│   │   \u001b[0m\u001b[94melse\u001b[0m:                                                                 \u001b[31m \u001b[0m\n",
            "\u001b[31m \u001b[0m   \u001b[2m 636 \u001b[0m\u001b[2m│   │   │   \u001b[0mensure_all_finite = \u001b[94mTrue\u001b[0m                                          \u001b[31m \u001b[0m\n",
            "\u001b[31m \u001b[0m   \u001b[2m 637 \u001b[0m\u001b[2m│   │   \u001b[0m                                                                      \u001b[31m \u001b[0m\n",
            "\u001b[31m \u001b[0m \u001b[31m❱ \u001b[0m 638 \u001b[2m│   │   \u001b[0mX = validate_data(                                                    \u001b[31m \u001b[0m\n",
            "\u001b[31m \u001b[0m   \u001b[2m 639 \u001b[0m\u001b[2m│   │   │   \u001b[0m\u001b[96mself\u001b[0m,                                                             \u001b[31m \u001b[0m\n",
            "\u001b[31m \u001b[0m   \u001b[2m 640 \u001b[0m\u001b[2m│   │   │   \u001b[0mX,                                                                \u001b[31m \u001b[0m\n",
            "\u001b[31m \u001b[0m   \u001b[2m 641 \u001b[0m\u001b[2m│   │   │   \u001b[0mdtype=DTYPE,                                                      \u001b[31m \u001b[0m\n",
            "\u001b[31m \u001b[0m                                                                                      \u001b[31m \u001b[0m\n",
            "\u001b[31m \u001b[0m \u001b[2;33m/usr/local/lib/python3.11/dist-packages/sklearn/utils/\u001b[0m\u001b[1;33mvalidation.py\u001b[0m:\u001b[94m2919\u001b[0m in          \u001b[31m \u001b[0m\n",
            "\u001b[31m \u001b[0m \u001b[92mvalidate_data\u001b[0m                                                                        \u001b[31m \u001b[0m\n",
            "\u001b[31m \u001b[0m                                                                                      \u001b[31m \u001b[0m\n",
            "\u001b[31m \u001b[0m   \u001b[2m2916 \u001b[0m\u001b[2;33m│   │   \u001b[0m\u001b[33mThe validated input. A tuple is returned if both `X` and `y` are\u001b[0m      \u001b[31m \u001b[0m\n",
            "\u001b[31m \u001b[0m   \u001b[2m2917 \u001b[0m\u001b[2;33m│   │   \u001b[0m\u001b[33mvalidated.\u001b[0m                                                            \u001b[31m \u001b[0m\n",
            "\u001b[31m \u001b[0m   \u001b[2m2918 \u001b[0m\u001b[2;33m│   \u001b[0m\u001b[33m\"\"\"\u001b[0m                                                                       \u001b[31m \u001b[0m\n",
            "\u001b[31m \u001b[0m \u001b[31m❱ \u001b[0m2919 \u001b[2m│   \u001b[0m\u001b[1;4m_check_feature_names(_estimator, X, reset=reset)\u001b[0m                          \u001b[31m \u001b[0m\n",
            "\u001b[31m \u001b[0m   \u001b[2m2920 \u001b[0m\u001b[2m│   \u001b[0mtags = get_tags(_estimator)                                               \u001b[31m \u001b[0m\n",
            "\u001b[31m \u001b[0m   \u001b[2m2921 \u001b[0m\u001b[2m│   \u001b[0m\u001b[94mif\u001b[0m y \u001b[95mis\u001b[0m \u001b[94mNone\u001b[0m \u001b[95mand\u001b[0m tags.target_tags.required:                               \u001b[31m \u001b[0m\n",
            "\u001b[31m \u001b[0m   \u001b[2m2922 \u001b[0m\u001b[2m│   │   \u001b[0m\u001b[94mraise\u001b[0m \u001b[96mValueError\u001b[0m(                                                     \u001b[31m \u001b[0m\n",
            "\u001b[31m \u001b[0m                                                                                      \u001b[31m \u001b[0m\n",
            "\u001b[31m \u001b[0m \u001b[2;33m/usr/local/lib/python3.11/dist-packages/sklearn/utils/\u001b[0m\u001b[1;33mvalidation.py\u001b[0m:\u001b[94m2777\u001b[0m in          \u001b[31m \u001b[0m\n",
            "\u001b[31m \u001b[0m \u001b[92m_check_feature_names\u001b[0m                                                                 \u001b[31m \u001b[0m\n",
            "\u001b[31m \u001b[0m                                                                                      \u001b[31m \u001b[0m\n",
            "\u001b[31m \u001b[0m   \u001b[2m2774 \u001b[0m\u001b[2m│   │   \u001b[0m\u001b[94mif\u001b[0m \u001b[95mnot\u001b[0m missing_names \u001b[95mand\u001b[0m \u001b[95mnot\u001b[0m unexpected_names:                        \u001b[31m \u001b[0m\n",
            "\u001b[31m \u001b[0m   \u001b[2m2775 \u001b[0m\u001b[2m│   │   │   \u001b[0mmessage += \u001b[33m\"\u001b[0m\u001b[33mFeature names must be in the same order as they were \u001b[0m \u001b[31m \u001b[0m\n",
            "\u001b[31m \u001b[0m   \u001b[2m2776 \u001b[0m\u001b[2m│   │   \u001b[0m                                                                      \u001b[31m \u001b[0m\n",
            "\u001b[31m \u001b[0m \u001b[31m❱ \u001b[0m2777 \u001b[2m│   │   \u001b[0m\u001b[1;4;94mraise\u001b[0m\u001b[1;4m \u001b[0m\u001b[1;4;96mValueError\u001b[0m\u001b[1;4m(message)\u001b[0m                                             \u001b[31m \u001b[0m\n",
            "\u001b[31m \u001b[0m   \u001b[2m2778 \u001b[0m                                                                              \u001b[31m \u001b[0m\n",
            "\u001b[31m \u001b[0m   \u001b[2m2779 \u001b[0m                                                                              \u001b[31m \u001b[0m\n",
            "\u001b[31m \u001b[0m   \u001b[2m2780 \u001b[0m\u001b[94mdef\u001b[0m\u001b[90m \u001b[0m\u001b[92m_check_n_features\u001b[0m(estimator, X, reset):                                   \u001b[31m \u001b[0m\n",
            "\u001b[31m────────────────────────────────────────────────────────────────────────────────────────\u001b[0m\n",
            "\u001b[1;91mValueError: \u001b[0mThe feature names should match those that were passed during fit.\n",
            "Feature names seen at fit time, yet now missing:\n",
            "- city\n",
            "- city_development_index\n",
            "- company_type\n",
            "- enrolled_university\n",
            "- gender\n",
            "- \u001b[33m...\u001b[0m\n",
            "\n"
          ]
        }
      ]
    },
    {
      "cell_type": "code",
      "source": [],
      "metadata": {
        "id": "n0f9JMHTUlPU"
      },
      "execution_count": null,
      "outputs": []
    },
    {
      "cell_type": "code",
      "metadata": {
        "id": "34067c04"
      },
      "source": [
        "app_code = '''\n",
        "import streamlit as st\n",
        "import pickle\n",
        "import pandas as pd\n",
        "import gzip\n",
        "import json\n",
        "\n",
        "# Load the compressed models\n",
        "with gzip.open(\"job_change_model.pkl.gz\", \"rb\") as f:\n",
        "    job_model = pickle.load(f)\n",
        "\n",
        "with gzip.open(\"salary_growth_model.pkl.gz\", \"rb\") as f:\n",
        "    salary_model = pickle.load(f)\n",
        "\n",
        "# Load feature names\n",
        "with open(\"feature_list.json\", \"r\") as f:\n",
        "    feature_list = json.load(f)\n",
        "\n",
        "st.set_page_config(page_title=\"Job Change and Salary Predictor\")\n",
        "st.title(\"Job Change and Salary Prediction Web App\")\n",
        "\n",
        "# Input form\n",
        "experience = st.slider(\"Experience (years)\", 0.0, 30.0, 2.0, 0.5)\n",
        "salary = st.number_input(\"Current Salary (INR)\", 100000, 5000000, step=10000)\n",
        "education_level = st.selectbox(\"Education Level\", [\"Graduate\", \"Masters\", \"Phd\", \"High School\", \"Other\"])\n",
        "company_size = st.selectbox(\"Company Size\", [\"<10\", \"10-49\", \"50-99\", \"100-500\", \"500-999\", \"1000-4999\", \"5000-9999\", \"10000+\"])\n",
        "relevent_experience = st.selectbox(\"Relevant Experience\", [\"Yes\", \"No\"])\n",
        "\n",
        "# Encoding values (These should match the encoding used in the notebook)\n",
        "edu_map = {\"High School\": 0, \"Graduate\": 1, \"Masters\": 2, \"Phd\": 3, \"Other\": 4}\n",
        "comp_map = {size: i for i, size in enumerate([\"<10\", \"10-49\", \"50-99\", \"100-500\", \"500-999\", \"1000-4999\", \"5000-9999\", \"10000+\"])}\n",
        "rel_exp_map = {\"No\": 0, \"Yes\": 1}\n",
        "\n",
        "if st.button(\"Predict\"):\n",
        "    # Create input DataFrame with all features, using dummy values for those not in the form\n",
        "    input_data = {\n",
        "        'city': 1, # Dummy value\n",
        "        'city_development_index': 0.8, # Dummy value\n",
        "        'gender': 1,  # Dummy value\n",
        "        'relevent_experience': rel_exp_map[relevent_experience],\n",
        "        'enrolled_university': 0, # Dummy value\n",
        "        'education_level': edu_map[education_level],\n",
        "        'major_discipline': 1, # Dummy value\n",
        "        'company_size': comp_map[company_size],\n",
        "        'company_type': 1, # Dummy value\n",
        "        'last_new_job': 1, # Dummy value\n",
        "        'experience_numeric': experience,\n",
        "        'current_salary': salary\n",
        "    }\n",
        "\n",
        "    input_df = pd.DataFrame([input_data])\n",
        "\n",
        "    # Ensure the column order matches the training data\n",
        "    input_df = input_df[feature_list]\n",
        "\n",
        "    job_change = job_model.predict(input_df)[0]\n",
        "\n",
        "    if job_change == 1:\n",
        "        growth = salary_model.predict(input_df)[0]\n",
        "        new_salary = salary * (1 + growth / 100)\n",
        "        st.success(\"This person is likely to change jobs.\")\n",
        "        st.write(f\"Estimated Salary Growth: **{growth:.2f}%**\")\n",
        "        st.write(f\"New Estimated Salary: ₹{new_salary:,.0f}\")\n",
        "    else:\n",
        "        st.warning(\"Unlikely to change jobs.\")\n",
        "'''\n",
        "with open(\"app.py\", \"w\") as f:\n",
        "    f.write(app_code)\n",
        "\n",
        "print(\"app.py created with all features\")"
      ],
      "execution_count": null,
      "outputs": []
    },
    {
      "cell_type": "code",
      "source": [],
      "metadata": {
        "id": "eNepoW2CcNNT"
      },
      "execution_count": null,
      "outputs": []
    }
  ],
  "metadata": {
    "colab": {
      "provenance": [],
      "authorship_tag": "ABX9TyNk4Hlrn0Vt14AJM5m7nLy8",
      "include_colab_link": true
    },
    "kernelspec": {
      "display_name": "Python 3",
      "name": "python3"
    },
    "language_info": {
      "name": "python"
    }
  },
  "nbformat": 4,
  "nbformat_minor": 0
}